{
 "cells": [
  {
   "cell_type": "markdown",
   "metadata": {},
   "source": [
    "# From OCS Documentation to Executable Notebook  \n",
    "\n",
    "The idea is to easily and straightforwardly convert static OCS request (implicit or not) like: \n",
    "\n",
    "![](https://academichub.blob.core.windows.net/images/ocs-dataview-create-quickstart.png)\n",
    "\n",
    "into its equivalent notebook version which can be executed: \n",
    "\n",
    "![](https://academichub.blob.core.windows.net/images/ocs-dataview-create-quickstart-cell.png)\n",
    "\n",
    "**Moreover with a free service like [Binder](https://mybinder.org/) it's possible to add a simple Binder icon to our documentation like this one :\n",
    "[![Binder](https://mybinder.org/badge_logo.svg)](https://mybinder.org/v2/gh/osisoft-academic/HackDavis2020/master?filepath=DataView_QS_Example_Scenario.ipynb)\n",
    "(you can try it, it's live)** \n",
    "\n",
    "**and allow people to \"execute\" the documentation without having to install anything to try it.**\n",
    "\n",
    "#### This is a proof-of-concept using the [Data View - Example Scenario](https://ocs-docs.osisoft.com/Documentation/DataViews/Example_Scenario.html) as a starting point since it's necessary step for the subsequent [Data View - Quick Start](https://ocs-docs.osisoft.com/Documentation/DataViews/Quick_Start_Define_a_Data_View.html) \n",
    "---\n",
    "**CHANGELOG**\n",
    "\n",
    "* Feb 20, 2020 - using official ocs_sample_library_preview version 0.1.3rc0 \n",
    "* Feb 10, 2020 - initial version\n",
    "---"
   ]
  },
  {
   "cell_type": "markdown",
   "metadata": {},
   "source": [
    "## Install modified OCS sample python library\n",
    "\n",
    "Source: [https://github.com/osisoft-academic/OSI-Samples-OCS](https://github.com/osisoft-academic/OSI-Samples-OCS)\n",
    "\n",
    "Modfied initially for [Locust](https://locust.io), now also support the magic cell command `%ocs_request` allowing cut-and-paste-execute from Data View OCS documentation"
   ]
  },
  {
   "cell_type": "code",
   "execution_count": 1,
   "metadata": {},
   "outputs": [
    {
     "name": "stdout",
     "output_type": "stream",
     "text": [
      "Requirement already satisfied: ocs-sample-library-preview==0.1.3.rc0 in /opt/conda/lib/python3.7/site-packages (0.1.3rc0)\n",
      "Requirement already satisfied: requests==2.22.0 in /opt/conda/lib/python3.7/site-packages (from ocs-sample-library-preview==0.1.3.rc0) (2.22.0)\n",
      "Requirement already satisfied: python-dateutil==2.8.0 in /opt/conda/lib/python3.7/site-packages (from ocs-sample-library-preview==0.1.3.rc0) (2.8.0)\n",
      "Requirement already satisfied: urllib3!=1.25.0,!=1.25.1,<1.26,>=1.21.1 in /opt/conda/lib/python3.7/site-packages (from requests==2.22.0->ocs-sample-library-preview==0.1.3.rc0) (1.25.6)\n",
      "Requirement already satisfied: chardet<3.1.0,>=3.0.2 in /opt/conda/lib/python3.7/site-packages (from requests==2.22.0->ocs-sample-library-preview==0.1.3.rc0) (3.0.4)\n",
      "Requirement already satisfied: idna<2.9,>=2.5 in /opt/conda/lib/python3.7/site-packages (from requests==2.22.0->ocs-sample-library-preview==0.1.3.rc0) (2.8)\n",
      "Requirement already satisfied: certifi>=2017.4.17 in /opt/conda/lib/python3.7/site-packages (from requests==2.22.0->ocs-sample-library-preview==0.1.3.rc0) (2019.11.28)\n",
      "Requirement already satisfied: six>=1.5 in /opt/conda/lib/python3.7/site-packages (from python-dateutil==2.8.0->ocs-sample-library-preview==0.1.3.rc0) (1.13.0)\n"
     ]
    }
   ],
   "source": [
    "!pip install ocs-sample-library-preview==0.1.3.rc0"
   ]
  },
  {
   "cell_type": "markdown",
   "metadata": {},
   "source": [
    "## Standard imports for OCS python application "
   ]
  },
  {
   "cell_type": "code",
   "execution_count": 2,
   "metadata": {},
   "outputs": [],
   "source": [
    "from ocs_sample_library_preview import OCSClient, SdsStream\n",
    "\n",
    "import configparser\n",
    "import json\n",
    "import io\n",
    "import random"
   ]
  },
  {
   "cell_type": "markdown",
   "metadata": {},
   "source": [
    "## Please enter your OCS credentials -- should have write access to the target namespace "
   ]
  },
  {
   "cell_type": "code",
   "execution_count": 3,
   "metadata": {},
   "outputs": [],
   "source": [
    "config_text = u\"\"\"\n",
    "; IMPORTANT: replace these values with those provided by OSIsoft\n",
    "[Configurations]\n",
    "Namespace = Samples\n",
    "\n",
    "[Access]\n",
    "Resource = https://dat-b.osisoft.com\n",
    "Tenant = 65292b6c-ec16-414a-b583-ce7ae04046d4\n",
    "ApiVersion = v1-preview\n",
    "\n",
    "[Credentials] \n",
    "ClientId = *********************************\n",
    "ClientSecret = *******************************\n",
    "\"\"\""
   ]
  },
  {
   "cell_type": "code",
   "execution_count": 4,
   "metadata": {},
   "outputs": [
    {
     "name": "stdout",
     "output_type": "stream",
     "text": [
      "tenantId: 65292b6c-ec16-414a-b583-ce7ae04046d4, namespaceId: 'Samples'\n"
     ]
    }
   ],
   "source": [
    "config = configparser.ConfigParser(allow_no_value=True)\n",
    "config.read_file(io.StringIO(config_text))\n",
    "\n",
    "ocs_client = OCSClient(\n",
    "    config.get(\"Access\", \"ApiVersion\"),\n",
    "    config.get(\"Access\", \"Tenant\"),\n",
    "    config.get(\"Access\", \"Resource\"),\n",
    "    config.get(\"Credentials\", \"ClientId\"),\n",
    "    config.get(\"Credentials\", \"ClientSecret\"),\n",
    ")\n",
    "\n",
    "tenantId = config.get(\"Access\", \"Tenant\")\n",
    "namespaceId = config.get(\"Configurations\", \"Namespace\")\n",
    "print(f\"tenantId: {tenantId}, namespaceId: '{namespaceId}'\")"
   ]
  },
  {
   "cell_type": "markdown",
   "metadata": {},
   "source": [
    "## Define the `ocs_request` magic cell command \n",
    "\n",
    "This is what allows to simply put `%%ocs_request` as the first line of a cell, then cut-and-paste from OCS docs to execute the request live. First usage is two cells below. "
   ]
  },
  {
   "cell_type": "code",
   "execution_count": 5,
   "metadata": {},
   "outputs": [],
   "source": [
    "from IPython.core.magic import (\n",
    "    register_line_magic,\n",
    "    register_cell_magic,\n",
    "    register_line_cell_magic,\n",
    ")\n",
    "\n",
    "# map doc values to their Python equivalent\n",
    "null = \"\"\n",
    "true = True\n",
    "\n",
    "# the magic cell command itself\n",
    "@register_cell_magic\n",
    "def ocs_request(_, req):  # req contains the cell text without %%ocs_request\n",
    "    sl = req.split(\"\\n\")  # get list of strings, one per line\n",
    "    sl0 = sl[0].split(\" \")  # first line always HTTP_VERB OCS_URL_TO_RESOLVE\n",
    "    verb = sl0[0]\n",
    "    url = sl0[1].format(tenantId=tenantId, namespaceId=namespaceId)  # resolve URL\n",
    "    full_url = ocs_client._OCSClient__baseClient.uri + url\n",
    "    if verb.lower() != \"get\" and verb.lower() != \"delete\":\n",
    "        js = json.loads(\n",
    "            \"\".join(sl[1:])\n",
    "        )  # text on remaining lines is a JSON to transfer\n",
    "        response = ocs_client._OCSClient__baseClient.request(verb, full_url, json=js)\n",
    "        print(\"==>\", verb, full_url, f\"[{response.status_code}]\\n\", js)\n",
    "    else:\n",
    "        response = ocs_client._OCSClient__baseClient.request(verb, full_url)\n",
    "        print(\n",
    "            \"==> GET URL=\",\n",
    "            verb,\n",
    "            full_url,\n",
    "            f\"[{response.status_code}]\",\n",
    "            \"\\n  \",\n",
    "            response.json(),\n",
    "        )\n",
    "    try:\n",
    "        return response.status_code, response.json()\n",
    "    except:\n",
    "        return response.status_code, response.content"
   ]
  },
  {
   "cell_type": "markdown",
   "metadata": {},
   "source": [
    "# The rest is copied from OCS Data View / Example Scenario\n",
    "\n",
    "Source: [https://ocs-docs.osisoft.com/Documentation/DataViews/Example_Scenario.html](https://ocs-docs.osisoft.com/Documentation/DataViews/Example_Scenario.html)\n",
    "\n",
    "**Goal: have an notebook-executable version of the doc so people can experiment** \n",
    "\n",
    "---\n",
    "---\n",
    "\n",
    "# Example Scenario\n",
    "\n",
    "This section uses example streams to illustrate data view concepts. The streams are of three types:\n",
    "\n",
    "* docs-pi-inverter | simulates solar power inverter data collected via PI to OCS\n",
    "* docs-omf-weather-gen1 | simulates weather data collected from an OMF source\n",
    "* docs-omf-weather-gen2 | simulates weather data collected from an OMF source, but with some additional/renamed properties\n",
    "* Each solar inverter is associated with some physical location. There is a weather stream for each location.\n",
    "\n",
    "Data views are made to bring order to a tangle of data streams. Despite appearing complex and verbose, this scenario is likely much simpler than your real-world data. This scenario illustrates how data views can render real-world data consumable for data science.\n",
    "\n",
    "## Solar Inverter streams\n",
    "These streams represent values collected via PI to OCS, originally collected by a PI System. Each stream value contains a timestamp (Timestamp) and a measurement (Value).\n",
    "\n",
    "### Type"
   ]
  },
  {
   "cell_type": "code",
   "execution_count": 6,
   "metadata": {},
   "outputs": [
    {
     "name": "stdout",
     "output_type": "stream",
     "text": [
      "==> POST https://dat-b.osisoft.com/api/v1-preview/Tenants/65292b6c-ec16-414a-b583-ce7ae04046d4/Namespaces/Samples/Types/docs-pi-inverter [200]\n",
      " {'Id': 'docs-pi-inverter', 'Name': 'Inverter', 'SdsTypeCode': 'Object', 'Properties': [{'Id': 'Timestamp', 'Name': 'Timestamp', 'IsKey': True, 'SdsType': {'SdsTypeCode': 'DateTime'}}, {'Id': 'Value', 'Name': 'Value', 'SdsType': {'SdsTypeCode': 'Double'}}]}\n"
     ]
    },
    {
     "data": {
      "text/plain": [
       "(200,\n",
       " {'Id': 'docs-pi-inverter',\n",
       "  'Name': 'Inverter',\n",
       "  'SdsTypeCode': 1,\n",
       "  'Properties': [{'Id': 'Timestamp',\n",
       "    'Name': 'Timestamp',\n",
       "    'IsKey': True,\n",
       "    'SdsType': {'SdsTypeCode': 16}},\n",
       "   {'Id': 'Value', 'Name': 'Value', 'SdsType': {'SdsTypeCode': 14}}]})"
      ]
     },
     "execution_count": 6,
     "metadata": {},
     "output_type": "execute_result"
    }
   ],
   "source": [
    "%%ocs_request\n",
    "POST /api/v1-preview/Tenants/{tenantId}/Namespaces/{namespaceId}/Types/docs-pi-inverter\n",
    "  {\n",
    "    \"Id\": \"docs-pi-inverter\",\n",
    "    \"Name\": \"Inverter\",\n",
    "    \"SdsTypeCode\": \"Object\",\n",
    "    \"Properties\": [\n",
    "      {\n",
    "        \"Id\": \"Timestamp\",\n",
    "        \"Name\": \"Timestamp\",\n",
    "        \"IsKey\": true,\n",
    "        \"SdsType\": { \"SdsTypeCode\": \"DateTime\" }\n",
    "      },\n",
    "      {\n",
    "        \"Id\": \"Value\",\n",
    "        \"Name\": \"Value\",\n",
    "        \"SdsType\": { \"SdsTypeCode\": \"Double\" }\n",
    "      }\n",
    "    ]\n",
    "  }"
   ]
  },
  {
   "cell_type": "markdown",
   "metadata": {},
   "source": [
    "### Stream IDs\n",
    "---\n",
    "16 inverter streams are defined:\n",
    "\n",
    "    \"BILT.Meter.Primary.Inverter.0.PwrIn\",\n",
    "    \"BILT.Meter.Primary.Inverter.0.PwrOut\",\n",
    "    \"BILT.Meter.Primary.Inverter.1.PwrIn\",\n",
    "    \"BILT.Meter.Primary.Inverter.1.PwrOut\",\n",
    "    \"BILT.Meter.Primary.Inverter.2.PwrIn\",\n",
    "    \"BILT.Meter.Primary.Inverter.2.PwrOut\",\n",
    "    \"BILT.Meter.Secondary.Inverter.0.PwrIn\",\n",
    "    \"BILT.Meter.Secondary.Inverter.0.PwrOut\",\n",
    "    \"ROSE.Meter.Primary.Inverter.0.PwrIn\",\n",
    "    \"ROSE.Meter.Primary.Inverter.0.PwrOut\",\n",
    "    \"ROSE.Meter.Primary.Inverter.1.PwrIn\",\n",
    "    \"ROSE.Meter.Primary.Inverter.1.PwrOut\",\n",
    "    \"WINT.Meter.Primary.Inverter.0.PwrIn\",\n",
    "    \"WINT.Meter.Primary.Inverter.0.PwrOut\",\n",
    "    \"WINT.Meter.Secondary.Inverter.0.PwrIn\",\n",
    "    \"WINT.Meter.Secondary.Inverter.0.PwrOut\",\n"
   ]
  },
  {
   "cell_type": "markdown",
   "metadata": {},
   "source": [
    "### Tags and Metadata\n",
    "---\n",
    "Each inverter stream has some descriptive tags assigned, and metadata key-values describing its function.\n",
    "<pre>\n",
    "Tags: some subset of [ \"Commercial\", \"Residential\", \"Critical Asset\" ]\n",
    "Metadata: { \n",
    "            \"Site\" : one of ( \"Biltmore\" | \"Rosecliff\" | \"Winterthur\" ),\n",
    "            \"Measurement\": one of ( \"Power In\" | \"Power Out\" ),\n",
    "            \"Meter\": one of ( \"Primary\", \"Secondary\" ),\n",
    "            \"Inverter\": one of ( \"0\", \"1\", \"2\" )\n",
    "            \"Nominal Power MW\": \"1.21\"\n",
    "          }\n",
    "</pre>"
   ]
  },
  {
   "cell_type": "code",
   "execution_count": 7,
   "metadata": {},
   "outputs": [],
   "source": [
    "site_map = {\"BILT\": \"Biltmore\", \"ROSE\": \"Rosecliff\", \"WINT\": \"Winterthur\"}\n",
    "measure_map = {\"PwrIn\": \"Power In\", \"PwrOut\": \"Power Out\"}\n",
    "meter_kind = [\"Primary\", \"Secondary\"]\n",
    "inverter_num = [\"0\", \"1\", \"2\"]\n",
    "customer_tags = [\"Commercial\", \"Residential\"]\n",
    "critical = \"Critical Asset\""
   ]
  },
  {
   "cell_type": "code",
   "execution_count": 8,
   "metadata": {},
   "outputs": [
    {
     "name": "stdout",
     "output_type": "stream",
     "text": [
      "==> POST https://dat-b.osisoft.com/api/v1-preview/Tenants/65292b6c-ec16-414a-b583-ce7ae04046d4/Namespaces/Samples/Streams/BILT.Meter.Primary.Inverter.0.PwrIn [200]\n",
      " {'Id': 'BILT.Meter.Primary.Inverter.0.PwrIn', 'TypeId': 'docs-pi-inverter', 'Name': 'BILT.Meter.Primary.Inverter.0.PwrIn', 'Description': None, 'InterpolationMode': None, 'ExtrapolationMode': None}\n",
      "==> PUT https://dat-b.osisoft.com/api/v1-preview/Tenants/65292b6c-ec16-414a-b583-ce7ae04046d4/Namespaces/Samples/Streams/BILT.Meter.Primary.Inverter.0.PwrIn/Metadata [200]\n",
      " {'Site': 'Biltmore', 'Measurement': 'Power In', 'Meter': 'Primary', 'Inverter': '0'}\n",
      "==> PUT https://dat-b.osisoft.com/api/v1-preview/Tenants/65292b6c-ec16-414a-b583-ce7ae04046d4/Namespaces/Samples/Streams/BILT.Meter.Primary.Inverter.0.PwrIn/Tags [200]\n",
      " ['Commercial']\n",
      "==> POST https://dat-b.osisoft.com/api/v1-preview/Tenants/65292b6c-ec16-414a-b583-ce7ae04046d4/Namespaces/Samples/Streams/BILT.Meter.Primary.Inverter.0.PwrOut [200]\n",
      " {'Id': 'BILT.Meter.Primary.Inverter.0.PwrOut', 'TypeId': 'docs-pi-inverter', 'Name': 'BILT.Meter.Primary.Inverter.0.PwrOut', 'Description': None, 'InterpolationMode': None, 'ExtrapolationMode': None}\n",
      "==> PUT https://dat-b.osisoft.com/api/v1-preview/Tenants/65292b6c-ec16-414a-b583-ce7ae04046d4/Namespaces/Samples/Streams/BILT.Meter.Primary.Inverter.0.PwrOut/Metadata [200]\n",
      " {'Site': 'Biltmore', 'Measurement': 'Power Out', 'Meter': 'Primary', 'Inverter': '0'}\n",
      "==> PUT https://dat-b.osisoft.com/api/v1-preview/Tenants/65292b6c-ec16-414a-b583-ce7ae04046d4/Namespaces/Samples/Streams/BILT.Meter.Primary.Inverter.0.PwrOut/Tags [200]\n",
      " ['Commercial']\n",
      "==> POST https://dat-b.osisoft.com/api/v1-preview/Tenants/65292b6c-ec16-414a-b583-ce7ae04046d4/Namespaces/Samples/Streams/BILT.Meter.Primary.Inverter.1.PwrIn [200]\n",
      " {'Id': 'BILT.Meter.Primary.Inverter.1.PwrIn', 'TypeId': 'docs-pi-inverter', 'Name': 'BILT.Meter.Primary.Inverter.1.PwrIn', 'Description': None, 'InterpolationMode': None, 'ExtrapolationMode': None}\n",
      "==> PUT https://dat-b.osisoft.com/api/v1-preview/Tenants/65292b6c-ec16-414a-b583-ce7ae04046d4/Namespaces/Samples/Streams/BILT.Meter.Primary.Inverter.1.PwrIn/Metadata [200]\n",
      " {'Site': 'Biltmore', 'Measurement': 'Power In', 'Meter': 'Primary', 'Inverter': '1'}\n",
      "==> PUT https://dat-b.osisoft.com/api/v1-preview/Tenants/65292b6c-ec16-414a-b583-ce7ae04046d4/Namespaces/Samples/Streams/BILT.Meter.Primary.Inverter.1.PwrIn/Tags [200]\n",
      " ['Commercial']\n",
      "==> POST https://dat-b.osisoft.com/api/v1-preview/Tenants/65292b6c-ec16-414a-b583-ce7ae04046d4/Namespaces/Samples/Streams/BILT.Meter.Primary.Inverter.1.PwrOut [200]\n",
      " {'Id': 'BILT.Meter.Primary.Inverter.1.PwrOut', 'TypeId': 'docs-pi-inverter', 'Name': 'BILT.Meter.Primary.Inverter.1.PwrOut', 'Description': None, 'InterpolationMode': None, 'ExtrapolationMode': None}\n",
      "==> PUT https://dat-b.osisoft.com/api/v1-preview/Tenants/65292b6c-ec16-414a-b583-ce7ae04046d4/Namespaces/Samples/Streams/BILT.Meter.Primary.Inverter.1.PwrOut/Metadata [200]\n",
      " {'Site': 'Biltmore', 'Measurement': 'Power Out', 'Meter': 'Primary', 'Inverter': '1'}\n",
      "==> PUT https://dat-b.osisoft.com/api/v1-preview/Tenants/65292b6c-ec16-414a-b583-ce7ae04046d4/Namespaces/Samples/Streams/BILT.Meter.Primary.Inverter.1.PwrOut/Tags [200]\n",
      " ['Commercial', 'Critical Asset']\n",
      "==> POST https://dat-b.osisoft.com/api/v1-preview/Tenants/65292b6c-ec16-414a-b583-ce7ae04046d4/Namespaces/Samples/Streams/BILT.Meter.Primary.Inverter.2.PwrIn [200]\n",
      " {'Id': 'BILT.Meter.Primary.Inverter.2.PwrIn', 'TypeId': 'docs-pi-inverter', 'Name': 'BILT.Meter.Primary.Inverter.2.PwrIn', 'Description': None, 'InterpolationMode': None, 'ExtrapolationMode': None}\n",
      "==> PUT https://dat-b.osisoft.com/api/v1-preview/Tenants/65292b6c-ec16-414a-b583-ce7ae04046d4/Namespaces/Samples/Streams/BILT.Meter.Primary.Inverter.2.PwrIn/Metadata [200]\n",
      " {'Site': 'Biltmore', 'Measurement': 'Power In', 'Meter': 'Primary', 'Inverter': '2'}\n",
      "==> PUT https://dat-b.osisoft.com/api/v1-preview/Tenants/65292b6c-ec16-414a-b583-ce7ae04046d4/Namespaces/Samples/Streams/BILT.Meter.Primary.Inverter.2.PwrIn/Tags [200]\n",
      " ['Residential']\n",
      "==> POST https://dat-b.osisoft.com/api/v1-preview/Tenants/65292b6c-ec16-414a-b583-ce7ae04046d4/Namespaces/Samples/Streams/BILT.Meter.Primary.Inverter.2.PwrOut [200]\n",
      " {'Id': 'BILT.Meter.Primary.Inverter.2.PwrOut', 'TypeId': 'docs-pi-inverter', 'Name': 'BILT.Meter.Primary.Inverter.2.PwrOut', 'Description': None, 'InterpolationMode': None, 'ExtrapolationMode': None}\n",
      "==> PUT https://dat-b.osisoft.com/api/v1-preview/Tenants/65292b6c-ec16-414a-b583-ce7ae04046d4/Namespaces/Samples/Streams/BILT.Meter.Primary.Inverter.2.PwrOut/Metadata [200]\n",
      " {'Site': 'Biltmore', 'Measurement': 'Power Out', 'Meter': 'Primary', 'Inverter': '2'}\n",
      "==> PUT https://dat-b.osisoft.com/api/v1-preview/Tenants/65292b6c-ec16-414a-b583-ce7ae04046d4/Namespaces/Samples/Streams/BILT.Meter.Primary.Inverter.2.PwrOut/Tags [200]\n",
      " ['Residential']\n",
      "==> POST https://dat-b.osisoft.com/api/v1-preview/Tenants/65292b6c-ec16-414a-b583-ce7ae04046d4/Namespaces/Samples/Streams/BILT.Meter.Secondary.Inverter.0.PwrIn [200]\n",
      " {'Id': 'BILT.Meter.Secondary.Inverter.0.PwrIn', 'TypeId': 'docs-pi-inverter', 'Name': 'BILT.Meter.Secondary.Inverter.0.PwrIn', 'Description': None, 'InterpolationMode': None, 'ExtrapolationMode': None}\n",
      "==> PUT https://dat-b.osisoft.com/api/v1-preview/Tenants/65292b6c-ec16-414a-b583-ce7ae04046d4/Namespaces/Samples/Streams/BILT.Meter.Secondary.Inverter.0.PwrIn/Metadata [200]\n",
      " {'Site': 'Biltmore', 'Measurement': 'Power In', 'Meter': 'Secondary', 'Inverter': '0'}\n",
      "==> PUT https://dat-b.osisoft.com/api/v1-preview/Tenants/65292b6c-ec16-414a-b583-ce7ae04046d4/Namespaces/Samples/Streams/BILT.Meter.Secondary.Inverter.0.PwrIn/Tags [200]\n",
      " ['Commercial']\n",
      "==> POST https://dat-b.osisoft.com/api/v1-preview/Tenants/65292b6c-ec16-414a-b583-ce7ae04046d4/Namespaces/Samples/Streams/BILT.Meter.Secondary.Inverter.0.PwrOut [200]\n",
      " {'Id': 'BILT.Meter.Secondary.Inverter.0.PwrOut', 'TypeId': 'docs-pi-inverter', 'Name': 'BILT.Meter.Secondary.Inverter.0.PwrOut', 'Description': None, 'InterpolationMode': None, 'ExtrapolationMode': None}\n",
      "==> PUT https://dat-b.osisoft.com/api/v1-preview/Tenants/65292b6c-ec16-414a-b583-ce7ae04046d4/Namespaces/Samples/Streams/BILT.Meter.Secondary.Inverter.0.PwrOut/Metadata [200]\n",
      " {'Site': 'Biltmore', 'Measurement': 'Power Out', 'Meter': 'Secondary', 'Inverter': '0'}\n",
      "==> PUT https://dat-b.osisoft.com/api/v1-preview/Tenants/65292b6c-ec16-414a-b583-ce7ae04046d4/Namespaces/Samples/Streams/BILT.Meter.Secondary.Inverter.0.PwrOut/Tags [200]\n",
      " ['Commercial', 'Critical Asset']\n",
      "==> POST https://dat-b.osisoft.com/api/v1-preview/Tenants/65292b6c-ec16-414a-b583-ce7ae04046d4/Namespaces/Samples/Streams/ROSE.Meter.Primary.Inverter.0.PwrIn [200]\n",
      " {'Id': 'ROSE.Meter.Primary.Inverter.0.PwrIn', 'TypeId': 'docs-pi-inverter', 'Name': 'ROSE.Meter.Primary.Inverter.0.PwrIn', 'Description': None, 'InterpolationMode': None, 'ExtrapolationMode': None}\n",
      "==> PUT https://dat-b.osisoft.com/api/v1-preview/Tenants/65292b6c-ec16-414a-b583-ce7ae04046d4/Namespaces/Samples/Streams/ROSE.Meter.Primary.Inverter.0.PwrIn/Metadata [200]\n",
      " {'Site': 'Rosecliff', 'Measurement': 'Power In', 'Meter': 'Primary', 'Inverter': '0'}\n",
      "==> PUT https://dat-b.osisoft.com/api/v1-preview/Tenants/65292b6c-ec16-414a-b583-ce7ae04046d4/Namespaces/Samples/Streams/ROSE.Meter.Primary.Inverter.0.PwrIn/Tags [200]\n",
      " ['Commercial']\n",
      "==> POST https://dat-b.osisoft.com/api/v1-preview/Tenants/65292b6c-ec16-414a-b583-ce7ae04046d4/Namespaces/Samples/Streams/ROSE.Meter.Primary.Inverter.0.PwrOut [200]\n",
      " {'Id': 'ROSE.Meter.Primary.Inverter.0.PwrOut', 'TypeId': 'docs-pi-inverter', 'Name': 'ROSE.Meter.Primary.Inverter.0.PwrOut', 'Description': None, 'InterpolationMode': None, 'ExtrapolationMode': None}\n",
      "==> PUT https://dat-b.osisoft.com/api/v1-preview/Tenants/65292b6c-ec16-414a-b583-ce7ae04046d4/Namespaces/Samples/Streams/ROSE.Meter.Primary.Inverter.0.PwrOut/Metadata [200]\n",
      " {'Site': 'Rosecliff', 'Measurement': 'Power Out', 'Meter': 'Primary', 'Inverter': '0'}\n",
      "==> PUT https://dat-b.osisoft.com/api/v1-preview/Tenants/65292b6c-ec16-414a-b583-ce7ae04046d4/Namespaces/Samples/Streams/ROSE.Meter.Primary.Inverter.0.PwrOut/Tags [200]\n",
      " ['Residential', 'Critical Asset']\n",
      "==> POST https://dat-b.osisoft.com/api/v1-preview/Tenants/65292b6c-ec16-414a-b583-ce7ae04046d4/Namespaces/Samples/Streams/ROSE.Meter.Primary.Inverter.1.PwrIn [200]\n",
      " {'Id': 'ROSE.Meter.Primary.Inverter.1.PwrIn', 'TypeId': 'docs-pi-inverter', 'Name': 'ROSE.Meter.Primary.Inverter.1.PwrIn', 'Description': None, 'InterpolationMode': None, 'ExtrapolationMode': None}\n",
      "==> PUT https://dat-b.osisoft.com/api/v1-preview/Tenants/65292b6c-ec16-414a-b583-ce7ae04046d4/Namespaces/Samples/Streams/ROSE.Meter.Primary.Inverter.1.PwrIn/Metadata [200]\n",
      " {'Site': 'Rosecliff', 'Measurement': 'Power In', 'Meter': 'Primary', 'Inverter': '1'}\n",
      "==> PUT https://dat-b.osisoft.com/api/v1-preview/Tenants/65292b6c-ec16-414a-b583-ce7ae04046d4/Namespaces/Samples/Streams/ROSE.Meter.Primary.Inverter.1.PwrIn/Tags [200]\n",
      " ['Residential', 'Critical Asset']\n",
      "==> POST https://dat-b.osisoft.com/api/v1-preview/Tenants/65292b6c-ec16-414a-b583-ce7ae04046d4/Namespaces/Samples/Streams/ROSE.Meter.Primary.Inverter.1.PwrOut [200]\n",
      " {'Id': 'ROSE.Meter.Primary.Inverter.1.PwrOut', 'TypeId': 'docs-pi-inverter', 'Name': 'ROSE.Meter.Primary.Inverter.1.PwrOut', 'Description': None, 'InterpolationMode': None, 'ExtrapolationMode': None}\n",
      "==> PUT https://dat-b.osisoft.com/api/v1-preview/Tenants/65292b6c-ec16-414a-b583-ce7ae04046d4/Namespaces/Samples/Streams/ROSE.Meter.Primary.Inverter.1.PwrOut/Metadata [200]\n",
      " {'Site': 'Rosecliff', 'Measurement': 'Power Out', 'Meter': 'Primary', 'Inverter': '1'}\n",
      "==> PUT https://dat-b.osisoft.com/api/v1-preview/Tenants/65292b6c-ec16-414a-b583-ce7ae04046d4/Namespaces/Samples/Streams/ROSE.Meter.Primary.Inverter.1.PwrOut/Tags [200]\n",
      " ['Commercial']\n",
      "==> POST https://dat-b.osisoft.com/api/v1-preview/Tenants/65292b6c-ec16-414a-b583-ce7ae04046d4/Namespaces/Samples/Streams/WINT.Meter.Primary.Inverter.0.PwrIn [200]\n",
      " {'Id': 'WINT.Meter.Primary.Inverter.0.PwrIn', 'TypeId': 'docs-pi-inverter', 'Name': 'WINT.Meter.Primary.Inverter.0.PwrIn', 'Description': None, 'InterpolationMode': None, 'ExtrapolationMode': None}\n",
      "==> PUT https://dat-b.osisoft.com/api/v1-preview/Tenants/65292b6c-ec16-414a-b583-ce7ae04046d4/Namespaces/Samples/Streams/WINT.Meter.Primary.Inverter.0.PwrIn/Metadata [200]\n",
      " {'Site': 'Winterthur', 'Measurement': 'Power In', 'Meter': 'Primary', 'Inverter': '0'}\n",
      "==> PUT https://dat-b.osisoft.com/api/v1-preview/Tenants/65292b6c-ec16-414a-b583-ce7ae04046d4/Namespaces/Samples/Streams/WINT.Meter.Primary.Inverter.0.PwrIn/Tags [200]\n",
      " ['Commercial']\n",
      "==> POST https://dat-b.osisoft.com/api/v1-preview/Tenants/65292b6c-ec16-414a-b583-ce7ae04046d4/Namespaces/Samples/Streams/WINT.Meter.Primary.Inverter.0.PwrOut [200]\n",
      " {'Id': 'WINT.Meter.Primary.Inverter.0.PwrOut', 'TypeId': 'docs-pi-inverter', 'Name': 'WINT.Meter.Primary.Inverter.0.PwrOut', 'Description': None, 'InterpolationMode': None, 'ExtrapolationMode': None}\n",
      "==> PUT https://dat-b.osisoft.com/api/v1-preview/Tenants/65292b6c-ec16-414a-b583-ce7ae04046d4/Namespaces/Samples/Streams/WINT.Meter.Primary.Inverter.0.PwrOut/Metadata [200]\n",
      " {'Site': 'Winterthur', 'Measurement': 'Power Out', 'Meter': 'Primary', 'Inverter': '0'}\n",
      "==> PUT https://dat-b.osisoft.com/api/v1-preview/Tenants/65292b6c-ec16-414a-b583-ce7ae04046d4/Namespaces/Samples/Streams/WINT.Meter.Primary.Inverter.0.PwrOut/Tags [200]\n",
      " ['Residential', 'Critical Asset']\n",
      "==> POST https://dat-b.osisoft.com/api/v1-preview/Tenants/65292b6c-ec16-414a-b583-ce7ae04046d4/Namespaces/Samples/Streams/WINT.Meter.Secondary.Inverter.0.PwrIn [200]\n",
      " {'Id': 'WINT.Meter.Secondary.Inverter.0.PwrIn', 'TypeId': 'docs-pi-inverter', 'Name': 'WINT.Meter.Secondary.Inverter.0.PwrIn', 'Description': None, 'InterpolationMode': None, 'ExtrapolationMode': None}\n",
      "==> PUT https://dat-b.osisoft.com/api/v1-preview/Tenants/65292b6c-ec16-414a-b583-ce7ae04046d4/Namespaces/Samples/Streams/WINT.Meter.Secondary.Inverter.0.PwrIn/Metadata [200]\n",
      " {'Site': 'Winterthur', 'Measurement': 'Power In', 'Meter': 'Secondary', 'Inverter': '0'}\n",
      "==> PUT https://dat-b.osisoft.com/api/v1-preview/Tenants/65292b6c-ec16-414a-b583-ce7ae04046d4/Namespaces/Samples/Streams/WINT.Meter.Secondary.Inverter.0.PwrIn/Tags [200]\n",
      " ['Commercial', 'Critical Asset']\n",
      "==> POST https://dat-b.osisoft.com/api/v1-preview/Tenants/65292b6c-ec16-414a-b583-ce7ae04046d4/Namespaces/Samples/Streams/WINT.Meter.Secondary.Inverter.0.PwrOut [200]\n",
      " {'Id': 'WINT.Meter.Secondary.Inverter.0.PwrOut', 'TypeId': 'docs-pi-inverter', 'Name': 'WINT.Meter.Secondary.Inverter.0.PwrOut', 'Description': None, 'InterpolationMode': None, 'ExtrapolationMode': None}\n",
      "==> PUT https://dat-b.osisoft.com/api/v1-preview/Tenants/65292b6c-ec16-414a-b583-ce7ae04046d4/Namespaces/Samples/Streams/WINT.Meter.Secondary.Inverter.0.PwrOut/Metadata [200]\n",
      " {'Site': 'Winterthur', 'Measurement': 'Power Out', 'Meter': 'Secondary', 'Inverter': '0'}\n",
      "==> PUT https://dat-b.osisoft.com/api/v1-preview/Tenants/65292b6c-ec16-414a-b583-ce7ae04046d4/Namespaces/Samples/Streams/WINT.Meter.Secondary.Inverter.0.PwrOut/Tags [200]\n",
      " ['Residential']\n"
     ]
    }
   ],
   "source": [
    "for site in site_map.keys():\n",
    "    for meter in meter_kind:\n",
    "        for inverter in inverter_num:\n",
    "            for measurement in measure_map.keys():\n",
    "                if site == \"BILT\" and meter == \"Secondary\" and int(inverter) >= 1:\n",
    "                    continue\n",
    "                if site == \"ROSE\" and (meter == \"Secondary\" or int(inverter) >= 2):\n",
    "                    continue\n",
    "                if site == \"WINT\" and int(inverter) >= 1:\n",
    "                    continue\n",
    "                stream_id = f\"{site}.Meter.{meter}.Inverter.{inverter}.{measurement}\"\n",
    "                stream = SdsStream(\n",
    "                    id=stream_id, name=stream_id, typeId=\"docs-pi-inverter\"\n",
    "                )\n",
    "                #\n",
    "                # Create a new OCS stream\n",
    "                #\n",
    "                stream_req = (\n",
    "                    f\"POST /api/v1-preview/Tenants/{tenantId}/Namespaces/{namespaceId}/Streams/{stream_id}\\n\"\n",
    "                    + str(stream.toJson())\n",
    "                )\n",
    "                ocs_request(None, stream_req)\n",
    "                #\n",
    "                # Update stream metadata\n",
    "                #\n",
    "                metadata = {\n",
    "                    \"Site\": site_map[site],\n",
    "                    \"Measurement\": measure_map[measurement],\n",
    "                    \"Meter\": meter,\n",
    "                    \"Inverter\": inverter,\n",
    "                }\n",
    "                metadata_req = (\n",
    "                    f\"PUT /api/v1-preview/Tenants/{tenantId}/Namespaces/{namespaceId}/Streams/{stream_id}/Metadata\\n\"\n",
    "                    + json.dumps(metadata)\n",
    "                )\n",
    "                ocs_request(None, metadata_req)\n",
    "                #\n",
    "                # Update stream tags\n",
    "                #\n",
    "                tags = [random.choice(customer_tags)]\n",
    "                if random.randint(0, 1) == 1:\n",
    "                    tags += [critical]\n",
    "                tags_req = (\n",
    "                    f\"PUT /api/v1-preview/Tenants/{tenantId}/Namespaces/{namespaceId}/Streams/{stream_id}/Tags\\n\"\n",
    "                    + json.dumps(tags)\n",
    "                )\n",
    "                ocs_request(None, tags_req)"
   ]
  },
  {
   "cell_type": "markdown",
   "metadata": {},
   "source": [
    "---\n",
    "---\n",
    "# TODO: create streams, add sample data to streams \n",
    "\n",
    "---\n",
    "---\n",
    "\n",
    "## Weather Streams\n",
    "These streams simulate data collected via OMF from a weather station. There are two \"generations\" represented: Gen2 adds one property and renames another, as compared to Gen1.\n",
    "\n",
    "### Tags and Metadata\n",
    "---\n",
    "Each weather stream has some descriptive tags assigned, and one metadata key-value indicating its Site. These are the same sites with which the inverters are associated.\n",
    "\n",
    "    Tags: some subset of [ \"Weather\", \"Low Resolution\", \"High Resolution\", \"Gen1\", \"Gen2\" ]\n",
    "    Metadata: { \"Site\" : one of ( \"Biltmore\" | \"Rosecliff\" | \"Winterthur\" ) }\n",
    "    \n",
    "## Weather, Generation 1\n",
    "\n",
    "### Type"
   ]
  },
  {
   "cell_type": "code",
   "execution_count": 9,
   "metadata": {},
   "outputs": [
    {
     "name": "stdout",
     "output_type": "stream",
     "text": [
      "==> POST https://dat-b.osisoft.com/api/v1-preview/Tenants/65292b6c-ec16-414a-b583-ce7ae04046d4/Namespaces/Samples/Types/docs-omf-weather-gen1 [200]\n",
      " {'Id': 'docs-omf-weather-gen1', 'Name': 'WeatherGen1', 'SdsTypeCode': 'Object', 'Properties': [{'Id': 'Timestamp', 'Name': 'Timestamp', 'IsKey': True, 'SdsType': {'SdsTypeCode': 'DateTime'}}, {'Id': 'SolarRadiation', 'Name': 'Solar Radiation', 'SdsType': {'SdsTypeCode': 'Int32'}}, {'Id': 'Temperature', 'Name': 'Temperature', 'SdsType': {'SdsTypeCode': 'Double'}}]}\n"
     ]
    },
    {
     "data": {
      "text/plain": [
       "(200,\n",
       " {'Id': 'docs-omf-weather-gen1',\n",
       "  'Name': 'WeatherGen1',\n",
       "  'SdsTypeCode': 1,\n",
       "  'Properties': [{'Id': 'Timestamp',\n",
       "    'Name': 'Timestamp',\n",
       "    'IsKey': True,\n",
       "    'SdsType': {'SdsTypeCode': 16}},\n",
       "   {'Id': 'SolarRadiation',\n",
       "    'Name': 'Solar Radiation',\n",
       "    'SdsType': {'SdsTypeCode': 9}},\n",
       "   {'Id': 'Temperature',\n",
       "    'Name': 'Temperature',\n",
       "    'SdsType': {'SdsTypeCode': 14}}]})"
      ]
     },
     "execution_count": 9,
     "metadata": {},
     "output_type": "execute_result"
    }
   ],
   "source": [
    "%%ocs_request\n",
    "POST /api/v1-preview/Tenants/{tenantId}/Namespaces/{namespaceId}/Types/docs-omf-weather-gen1\n",
    "  {\n",
    "    \"Id\": \"docs-omf-weather-gen1\",\n",
    "    \"Name\": \"WeatherGen1\",\n",
    "    \"SdsTypeCode\": \"Object\",\n",
    "    \"Properties\": [\n",
    "      {\n",
    "        \"Id\": \"Timestamp\",\n",
    "        \"Name\": \"Timestamp\",\n",
    "        \"IsKey\": true,\n",
    "        \"SdsType\": { \"SdsTypeCode\": \"DateTime\" }\n",
    "      },\n",
    "      {\n",
    "        \"Id\": \"SolarRadiation\",\n",
    "        \"Name\": \"Solar Radiation\",\n",
    "        \"SdsType\": { \"SdsTypeCode\": \"Int32\" }\n",
    "      },\n",
    "      {\n",
    "        \"Id\": \"Temperature\",\n",
    "        \"Name\": \"Temperature\",\n",
    "        \"SdsType\": { \"SdsTypeCode\": \"Double\" }\n",
    "      }\n",
    "    ]\n",
    "  }"
   ]
  },
  {
   "cell_type": "markdown",
   "metadata": {},
   "source": [
    "### Stream IDs\n",
    "---\n",
    "Two streams of this type are defined:\n",
    "\n",
    "    \"WS_BILT\",\n",
    "    \"WS_ROSE\","
   ]
  },
  {
   "cell_type": "markdown",
   "metadata": {},
   "source": [
    "## Weather, Generation 2\n",
    "\n",
    "The latest and greatest Gen2 weather stations report a new property, Cloud Cover, but also rename Temperature to Ambient Temperature. They are otherwise similar to Gen1.\n",
    "\n",
    "### Type"
   ]
  },
  {
   "cell_type": "code",
   "execution_count": 10,
   "metadata": {},
   "outputs": [
    {
     "name": "stdout",
     "output_type": "stream",
     "text": [
      "==> POST https://dat-b.osisoft.com/api/v1-preview/Tenants/65292b6c-ec16-414a-b583-ce7ae04046d4/Namespaces/Samples/Types/docs-omf-weather-gen2 [200]\n",
      " {'Id': 'docs-omf-weather-gen2', 'Name': 'WeatherGen2', 'SdsTypeCode': 'Object', 'Properties': [{'Id': 'Timestamp', 'Name': 'Timestamp', 'IsKey': True, 'SdsType': {'SdsTypeCode': 'DateTime'}}, {'Id': 'SolarRadiation', 'Name': 'Solar Radiation', 'SdsType': {'SdsTypeCode': 'Int32'}}, {'Id': 'AmbientTemperature', 'Name': 'Ambient Temperature', 'SdsType': {'SdsTypeCode': 'Double'}}, {'Id': 'CloudCover', 'Name': 'Cloud Cover', 'SdsType': {'SdsTypeCode': 'Int32'}}]}\n"
     ]
    },
    {
     "data": {
      "text/plain": [
       "(200,\n",
       " {'Id': 'docs-omf-weather-gen2',\n",
       "  'Name': 'WeatherGen2',\n",
       "  'SdsTypeCode': 1,\n",
       "  'Properties': [{'Id': 'Timestamp',\n",
       "    'Name': 'Timestamp',\n",
       "    'IsKey': True,\n",
       "    'SdsType': {'SdsTypeCode': 16}},\n",
       "   {'Id': 'SolarRadiation',\n",
       "    'Name': 'Solar Radiation',\n",
       "    'SdsType': {'SdsTypeCode': 9}},\n",
       "   {'Id': 'AmbientTemperature',\n",
       "    'Name': 'Ambient Temperature',\n",
       "    'SdsType': {'SdsTypeCode': 14}},\n",
       "   {'Id': 'CloudCover',\n",
       "    'Name': 'Cloud Cover',\n",
       "    'SdsType': {'SdsTypeCode': 9}}]})"
      ]
     },
     "execution_count": 10,
     "metadata": {},
     "output_type": "execute_result"
    }
   ],
   "source": [
    "%%ocs_request\n",
    "POST /api/v1-preview/Tenants/{tenantId}/Namespaces/{namespaceId}/Types/docs-omf-weather-gen2\n",
    "  {\n",
    "    \"Id\": \"docs-omf-weather-gen2\",\n",
    "    \"Name\": \"WeatherGen2\",\n",
    "    \"SdsTypeCode\": \"Object\",\n",
    "    \"Properties\": [\n",
    "      {\n",
    "        \"Id\": \"Timestamp\",\n",
    "        \"Name\": \"Timestamp\",\n",
    "        \"IsKey\": true,\n",
    "        \"SdsType\": { \"SdsTypeCode\": \"DateTime\" }\n",
    "      },\n",
    "      {\n",
    "        \"Id\": \"SolarRadiation\",\n",
    "        \"Name\": \"Solar Radiation\",\n",
    "        \"SdsType\": { \"SdsTypeCode\": \"Int32\" }\n",
    "      },\n",
    "      {\n",
    "        \"Id\": \"AmbientTemperature\",\n",
    "        \"Name\": \"Ambient Temperature\",\n",
    "        \"SdsType\": { \"SdsTypeCode\": \"Double\" }\n",
    "      },\n",
    "      {\n",
    "        \"Id\": \"CloudCover\",\n",
    "        \"Name\": \"Cloud Cover\",\n",
    "        \"SdsType\": { \"SdsTypeCode\": \"Int32\" }\n",
    "      }\n",
    "    ]\n",
    "  }"
   ]
  },
  {
   "cell_type": "markdown",
   "metadata": {},
   "source": [
    "### Stream IDs\n",
    "---\n",
    "One stream of this type is defined:\n",
    "\n",
    "    \"WS_WINT\""
   ]
  },
  {
   "cell_type": "code",
   "execution_count": null,
   "metadata": {},
   "outputs": [],
   "source": []
  }
 ],
 "metadata": {
  "kernelspec": {
   "display_name": "Python 3",
   "language": "python",
   "name": "python3"
  },
  "language_info": {
   "codemirror_mode": {
    "name": "ipython",
    "version": 3
   },
   "file_extension": ".py",
   "mimetype": "text/x-python",
   "name": "python",
   "nbconvert_exporter": "python",
   "pygments_lexer": "ipython3",
   "version": "3.7.3"
  }
 },
 "nbformat": 4,
 "nbformat_minor": 4
}
